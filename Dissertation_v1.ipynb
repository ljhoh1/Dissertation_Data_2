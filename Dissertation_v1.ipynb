{
  "nbformat": 4,
  "nbformat_minor": 5,
  "metadata": {
    "kernelspec": {
      "display_name": "Python 3",
      "language": "python",
      "name": "python3"
    },
    "language_info": {
      "codemirror_mode": {
        "name": "ipython",
        "version": 3
      },
      "file_extension": ".py",
      "mimetype": "text/x-python",
      "name": "python",
      "nbconvert_exporter": "python",
      "pygments_lexer": "ipython3",
      "version": "3.6.13"
    },
    "colab": {
      "name": "Dissertation_v1.ipynb",
      "provenance": [],
      "collapsed_sections": [],
      "machine_shape": "hm",
      "include_colab_link": true
    },
    "accelerator": "GPU"
  },
  "cells": [
    {
      "cell_type": "markdown",
      "metadata": {
        "id": "view-in-github",
        "colab_type": "text"
      },
      "source": [
        "<a href=\"https://colab.research.google.com/github/ljhoh1/Dissertation_Data_2/blob/master/Dissertation_v1.ipynb\" target=\"_parent\"><img src=\"https://colab.research.google.com/assets/colab-badge.svg\" alt=\"Open In Colab\"/></a>"
      ]
    },
    {
      "cell_type": "code",
      "metadata": {
        "id": "eHBRiTCfse1o",
        "colab": {
          "base_uri": "https://localhost:8080/"
        },
        "outputId": "925de132-118d-4bf4-e882-2208171d44f9"
      },
      "source": [
        "try:\n",
        "    import py_entitymatching as em\n",
        "except:\n",
        "    !pip install py_entitymatching\n",
        "\n",
        "try:\n",
        "    import deepmatcher\n",
        "except:\n",
        "    !pip uninstall preprocessing -y\n",
        "    !pip uninstall fastai -y \n",
        "    !pip uninstall allennlp -y\n",
        "    !pip install deepmatcher\n",
        "\n",
        "import pandas as pd\n",
        "if pd.__version__ != \"1.2.4\":\n",
        " !pip install pandas==1.2.4\n",
        " import pandas as pd\n",
        " print(f\"Verify pandas=={pd.__version__}\")\n",
        "else:\n",
        " print(f\"Verify pandas=={pd.__version__}\")\n",
        "\n",
        "import sys\n",
        "import tensorflow as tf\n",
        "from tensorflow.python.client import device_lib\n",
        "import deepmatcher as dm\n",
        "import py_entitymatching as em\n",
        "import pandas as pd\n",
        "import os\n",
        "from collections import defaultdict\n",
        "import numpy as np"
      ],
      "id": "eHBRiTCfse1o",
      "execution_count": 1,
      "outputs": [
        {
          "output_type": "stream",
          "text": [
            "Verify pandas==1.2.4\n"
          ],
          "name": "stdout"
        }
      ]
    },
    {
      "cell_type": "code",
      "metadata": {
        "id": "6_4M1sgM_ZQb",
        "colab": {
          "base_uri": "https://localhost:8080/"
        },
        "outputId": "42a3c3db-5ce2-408d-ac17-6b626c2c492a"
      },
      "source": [
        "! git clone https://github.com/ljhoh1/Dissertation_Data_2"
      ],
      "id": "6_4M1sgM_ZQb",
      "execution_count": 2,
      "outputs": [
        {
          "output_type": "stream",
          "text": [
            "fatal: destination path 'Dissertation_Data_2' already exists and is not an empty directory.\n"
          ],
          "name": "stdout"
        }
      ]
    },
    {
      "cell_type": "code",
      "metadata": {
        "id": "vIRp-S0830ST"
      },
      "source": [
        "# The path to the two input tables.\n",
        "path_Scholar = os.path.join('.', 'Dissertation_Data_2', 'Scholar_data.csv')\n",
        "path_DBLP = os.path.join('.', 'Dissertation_Data_2', 'DBLP1_data.csv')"
      ],
      "id": "vIRp-S0830ST",
      "execution_count": 3,
      "outputs": []
    },
    {
      "cell_type": "code",
      "metadata": {
        "colab": {
          "base_uri": "https://localhost:8080/"
        },
        "id": "6938f2e8-7ed5-4906-843b-41355a7d9dc8",
        "outputId": "d92ce236-32a1-4c25-91cb-b720606d9bd5"
      },
      "source": [
        "# checking the character embedding\n",
        "import chardet\n",
        "with open(path_Scholar, 'rb') as rawdata:\n",
        "    result = chardet.detect(rawdata.read(100000))\n",
        "result"
      ],
      "id": "6938f2e8-7ed5-4906-843b-41355a7d9dc8",
      "execution_count": 4,
      "outputs": [
        {
          "output_type": "execute_result",
          "data": {
            "text/plain": [
              "{'encoding': 'UTF-8-SIG', 'confidence': 1.0, 'language': ''}"
            ]
          },
          "metadata": {
            "tags": []
          },
          "execution_count": 4
        }
      ]
    },
    {
      "cell_type": "code",
      "metadata": {
        "colab": {
          "base_uri": "https://localhost:8080/"
        },
        "id": "42819315-b087-44a2-84d3-48d4e7d259c1",
        "outputId": "9c00f750-3966-49ac-dcc8-e706a3ac53a4"
      },
      "source": [
        "import chardet\n",
        "with open(path_DBLP, 'rb') as rawdata:\n",
        "    result = chardet.detect(rawdata.read(100000))\n",
        "result"
      ],
      "id": "42819315-b087-44a2-84d3-48d4e7d259c1",
      "execution_count": 5,
      "outputs": [
        {
          "output_type": "execute_result",
          "data": {
            "text/plain": [
              "{'encoding': 'ISO-8859-1', 'confidence': 0.7298232262081848, 'language': ''}"
            ]
          },
          "metadata": {
            "tags": []
          },
          "execution_count": 5
        }
      ]
    },
    {
      "cell_type": "code",
      "metadata": {
        "id": "8e41fa2d",
        "colab": {
          "base_uri": "https://localhost:8080/",
          "height": 296
        },
        "outputId": "18360aa3-65eb-4e3c-9c3b-5493b06113e6"
      },
      "source": [
        "# Load the Scholar data table\n",
        "Scholar = em.read_csv_metadata(path_Scholar, key='id')\n",
        "# Transforming the title column cells\n",
        "Scholar['title'] = Scholar['title'].str.lower()\n",
        "Scholar['title'] = Scholar['title'].str.replace('[^A-Za-z0-9 ]+', '')\n",
        "Scholar.head()"
      ],
      "id": "8e41fa2d",
      "execution_count": 6,
      "outputs": [
        {
          "output_type": "stream",
          "text": [
            "WARNING:py_entitymatching.io.parsers:Metadata file is not present in the given path; proceeding to read the csv file.\n",
            "/usr/local/lib/python3.7/dist-packages/ipykernel_launcher.py:5: FutureWarning: The default value of regex will change from True to False in a future version.\n",
            "  \"\"\"\n"
          ],
          "name": "stderr"
        },
        {
          "output_type": "execute_result",
          "data": {
            "text/html": [
              "<div>\n",
              "<style scoped>\n",
              "    .dataframe tbody tr th:only-of-type {\n",
              "        vertical-align: middle;\n",
              "    }\n",
              "\n",
              "    .dataframe tbody tr th {\n",
              "        vertical-align: top;\n",
              "    }\n",
              "\n",
              "    .dataframe thead th {\n",
              "        text-align: right;\n",
              "    }\n",
              "</style>\n",
              "<table border=\"1\" class=\"dataframe\">\n",
              "  <thead>\n",
              "    <tr style=\"text-align: right;\">\n",
              "      <th></th>\n",
              "      <th>id</th>\n",
              "      <th>title</th>\n",
              "      <th>authors</th>\n",
              "      <th>venue</th>\n",
              "      <th>year</th>\n",
              "    </tr>\n",
              "  </thead>\n",
              "  <tbody>\n",
              "    <tr>\n",
              "      <th>0</th>\n",
              "      <td>aKcZKwvwbQwJ</td>\n",
              "      <td>11578 sorrento valley road</td>\n",
              "      <td>QD Inc</td>\n",
              "      <td>San Diego,</td>\n",
              "      <td>NaN</td>\n",
              "    </tr>\n",
              "    <tr>\n",
              "      <th>1</th>\n",
              "      <td>ixKfiTHoaDoJ</td>\n",
              "      <td>initiation of crazes in polystyrene</td>\n",
              "      <td>AS Argon, JG Hannoosh</td>\n",
              "      <td>Phil. Mag,</td>\n",
              "      <td>NaN</td>\n",
              "    </tr>\n",
              "    <tr>\n",
              "      <th>2</th>\n",
              "      <td>3BxllB4wwcIJ</td>\n",
              "      <td>immunogold labelling is a quantitative method as demonstrated by studies on aminopeptidase n in</td>\n",
              "      <td>GH Hansen, LL Wetterberg, H SjÃ¶strÃ¶m, O NorÃ©n</td>\n",
              "      <td>The Histochemical Journal,</td>\n",
              "      <td>1992.0</td>\n",
              "    </tr>\n",
              "    <tr>\n",
              "      <th>3</th>\n",
              "      <td>d2WWxwKMex4J</td>\n",
              "      <td>the burden of infectious disease among inmates and releasees from correctional facilities</td>\n",
              "      <td>TM Hammett, P Harmon, W Rhodes</td>\n",
              "      <td>see</td>\n",
              "      <td>NaN</td>\n",
              "    </tr>\n",
              "    <tr>\n",
              "      <th>4</th>\n",
              "      <td>cZCX-AQpjccJ</td>\n",
              "      <td>the role of faculty advising in science and engineering</td>\n",
              "      <td>JR Cogdell</td>\n",
              "      <td>NEW DIRECTIONS FOR TEACHING AND LEARNING,</td>\n",
              "      <td>1995.0</td>\n",
              "    </tr>\n",
              "  </tbody>\n",
              "</table>\n",
              "</div>"
            ],
            "text/plain": [
              "             id  ...    year\n",
              "0  aKcZKwvwbQwJ  ...     NaN\n",
              "1  ixKfiTHoaDoJ  ...     NaN\n",
              "2  3BxllB4wwcIJ  ...  1992.0\n",
              "3  d2WWxwKMex4J  ...     NaN\n",
              "4  cZCX-AQpjccJ  ...  1995.0\n",
              "\n",
              "[5 rows x 5 columns]"
            ]
          },
          "metadata": {
            "tags": []
          },
          "execution_count": 6
        }
      ]
    },
    {
      "cell_type": "code",
      "metadata": {
        "tags": [],
        "id": "ff0bd35b",
        "colab": {
          "base_uri": "https://localhost:8080/",
          "height": 261
        },
        "outputId": "ec3982ac-e8c7-42f7-f711-92edea65c5a0"
      },
      "source": [
        "DBLP = em.read_csv_metadata(path_DBLP, key='id')\n",
        "DBLP['title'] = DBLP['title'].str.replace('[^A-Za-z0-9 ]+', '')\n",
        "DBLP['title'] = DBLP['title'].str.lower()\n",
        "DBLP.head()"
      ],
      "id": "ff0bd35b",
      "execution_count": 7,
      "outputs": [
        {
          "output_type": "stream",
          "text": [
            "WARNING:py_entitymatching.io.parsers:Metadata file is not present in the given path; proceeding to read the csv file.\n",
            "/usr/local/lib/python3.7/dist-packages/ipykernel_launcher.py:3: FutureWarning: The default value of regex will change from True to False in a future version.\n",
            "  This is separate from the ipykernel package so we can avoid doing imports until\n"
          ],
          "name": "stderr"
        },
        {
          "output_type": "execute_result",
          "data": {
            "text/html": [
              "<div>\n",
              "<style scoped>\n",
              "    .dataframe tbody tr th:only-of-type {\n",
              "        vertical-align: middle;\n",
              "    }\n",
              "\n",
              "    .dataframe tbody tr th {\n",
              "        vertical-align: top;\n",
              "    }\n",
              "\n",
              "    .dataframe thead th {\n",
              "        text-align: right;\n",
              "    }\n",
              "</style>\n",
              "<table border=\"1\" class=\"dataframe\">\n",
              "  <thead>\n",
              "    <tr style=\"text-align: right;\">\n",
              "      <th></th>\n",
              "      <th>id</th>\n",
              "      <th>title</th>\n",
              "      <th>authors</th>\n",
              "      <th>venue</th>\n",
              "      <th>year</th>\n",
              "    </tr>\n",
              "  </thead>\n",
              "  <tbody>\n",
              "    <tr>\n",
              "      <th>0</th>\n",
              "      <td>conf/vldb/RusinkiewiczKTWM95</td>\n",
              "      <td>towards a cooperative transaction model  the cooperative activity model</td>\n",
              "      <td>M Rusinkiewicz, W Klas, T Tesch, J W�sch, P Muth</td>\n",
              "      <td>VLDB</td>\n",
              "      <td>1995</td>\n",
              "    </tr>\n",
              "    <tr>\n",
              "      <th>1</th>\n",
              "      <td>journals/sigmod/EisenbergM02</td>\n",
              "      <td>sqlxml is making good progress</td>\n",
              "      <td>A Eisenberg, J Melton</td>\n",
              "      <td>SIGMOD Record</td>\n",
              "      <td>2002</td>\n",
              "    </tr>\n",
              "    <tr>\n",
              "      <th>2</th>\n",
              "      <td>conf/vldb/AmmannJR95</td>\n",
              "      <td>using formal methods to reason about semanticsbased decompositions of transactions</td>\n",
              "      <td>P Ammann, S Jajodia, I Ray</td>\n",
              "      <td>VLDB</td>\n",
              "      <td>1995</td>\n",
              "    </tr>\n",
              "    <tr>\n",
              "      <th>3</th>\n",
              "      <td>journals/sigmod/Liu02</td>\n",
              "      <td>editors notes</td>\n",
              "      <td>L Liu</td>\n",
              "      <td>SIGMOD Record</td>\n",
              "      <td>2002</td>\n",
              "    </tr>\n",
              "    <tr>\n",
              "      <th>4</th>\n",
              "      <td>journals/sigmod/Hammer02</td>\n",
              "      <td>report on the acm fourth international workshop on data warehousing and olap dolap 2001</td>\n",
              "      <td>NaN</td>\n",
              "      <td>NaN</td>\n",
              "      <td>2002</td>\n",
              "    </tr>\n",
              "  </tbody>\n",
              "</table>\n",
              "</div>"
            ],
            "text/plain": [
              "                             id  ...  year\n",
              "0  conf/vldb/RusinkiewiczKTWM95  ...  1995\n",
              "1  journals/sigmod/EisenbergM02  ...  2002\n",
              "2          conf/vldb/AmmannJR95  ...  1995\n",
              "3         journals/sigmod/Liu02  ...  2002\n",
              "4      journals/sigmod/Hammer02  ...  2002\n",
              "\n",
              "[5 rows x 5 columns]"
            ]
          },
          "metadata": {
            "tags": []
          },
          "execution_count": 7
        }
      ]
    },
    {
      "cell_type": "code",
      "metadata": {
        "id": "a308c287"
      },
      "source": [
        "# Get tokenizers and similarity function\n",
        "block_t = em.get_tokenizers_for_blocking()\n",
        "block_s = em.get_sim_funs_for_blocking()\n",
        "\n",
        "# Get attributes\n",
        "atypes1 = em.get_attr_types(Scholar)\n",
        "atypes2 = em.get_attr_types(DBLP)\n",
        "\n",
        "# Get correspondence\n",
        "block_c = em.get_attr_corres(Scholar, DBLP)\n",
        "\n",
        "#Get Features\n",
        "block_f = em.get_features(Scholar, DBLP, atypes1, atypes2, block_c, block_t, block_s)"
      ],
      "id": "a308c287",
      "execution_count": 8,
      "outputs": []
    },
    {
      "cell_type": "code",
      "metadata": {
        "id": "7c4984c3",
        "colab": {
          "base_uri": "https://localhost:8080/"
        },
        "outputId": "95737906-3c3d-4a0f-ef32-6d32be71224c"
      },
      "source": [
        "# Creating a rule based blocker\n",
        "rb = em.RuleBasedBlocker()\n",
        "rule = ['title_title_jac_qgm_3_qgm_3(ltuple, rtuple) < 0.4']\n",
        "rb.add_rule(rule, feature_table=block_f)\n",
        "C = rb.block_tables(Scholar, DBLP,\n",
        "                   l_output_attrs=['title', 'authors', 'venue', 'year'], \n",
        "                   r_output_attrs=['title', 'authors', 'venue', 'year'], \n",
        "                   n_jobs=1)\n"
      ],
      "id": "7c4984c3",
      "execution_count": 9,
      "outputs": [
        {
          "output_type": "stream",
          "text": [
            "0% [##############################] 100% | ETA: 00:00:00"
          ],
          "name": "stderr"
        },
        {
          "output_type": "stream",
          "text": [
            "Finding pairs with missing value...\n"
          ],
          "name": "stdout"
        },
        {
          "output_type": "stream",
          "text": [
            "\n",
            "Total time elapsed: 00:00:42\n"
          ],
          "name": "stderr"
        }
      ]
    },
    {
      "cell_type": "code",
      "metadata": {
        "id": "5f4b5b35",
        "colab": {
          "base_uri": "https://localhost:8080/"
        },
        "outputId": "e66859e9-5a11-4481-f0cf-13d30c4d7d2b"
      },
      "source": [
        "# The number of tuple pairs in D.\n",
        "len(C)"
      ],
      "id": "5f4b5b35",
      "execution_count": 10,
      "outputs": [
        {
          "output_type": "execute_result",
          "data": {
            "text/plain": [
              "11427"
            ]
          },
          "metadata": {
            "tags": []
          },
          "execution_count": 10
        }
      ]
    },
    {
      "cell_type": "code",
      "metadata": {
        "id": "ddba3419",
        "colab": {
          "base_uri": "https://localhost:8080/",
          "height": 432
        },
        "outputId": "e94c359d-d439-465d-acfc-0fcc704e9875"
      },
      "source": [
        "C.head()"
      ],
      "id": "ddba3419",
      "execution_count": 11,
      "outputs": [
        {
          "output_type": "execute_result",
          "data": {
            "text/html": [
              "<div>\n",
              "<style scoped>\n",
              "    .dataframe tbody tr th:only-of-type {\n",
              "        vertical-align: middle;\n",
              "    }\n",
              "\n",
              "    .dataframe tbody tr th {\n",
              "        vertical-align: top;\n",
              "    }\n",
              "\n",
              "    .dataframe thead th {\n",
              "        text-align: right;\n",
              "    }\n",
              "</style>\n",
              "<table border=\"1\" class=\"dataframe\">\n",
              "  <thead>\n",
              "    <tr style=\"text-align: right;\">\n",
              "      <th></th>\n",
              "      <th>_id</th>\n",
              "      <th>ltable_id</th>\n",
              "      <th>rtable_id</th>\n",
              "      <th>ltable_title</th>\n",
              "      <th>ltable_authors</th>\n",
              "      <th>ltable_venue</th>\n",
              "      <th>ltable_year</th>\n",
              "      <th>rtable_title</th>\n",
              "      <th>rtable_authors</th>\n",
              "      <th>rtable_venue</th>\n",
              "      <th>rtable_year</th>\n",
              "    </tr>\n",
              "  </thead>\n",
              "  <tbody>\n",
              "    <tr>\n",
              "      <th>0</th>\n",
              "      <td>0</td>\n",
              "      <td>019zSr3Lx4EJ</td>\n",
              "      <td>conf/vldb/RusinkiewiczKTWM95</td>\n",
              "      <td>towards a cooperative activity modelthe coopertive activity model</td>\n",
              "      <td>M Rusinkiewicz, W Klas, T Tesch, J Wasch, P Muth</td>\n",
              "      <td>Proceedings of the 21st International Conference on Very  &amp;hellip;,</td>\n",
              "      <td>NaN</td>\n",
              "      <td>towards a cooperative transaction model  the cooperative activity model</td>\n",
              "      <td>M Rusinkiewicz, W Klas, T Tesch, J W�sch, P Muth</td>\n",
              "      <td>VLDB</td>\n",
              "      <td>1995</td>\n",
              "    </tr>\n",
              "    <tr>\n",
              "      <th>1</th>\n",
              "      <td>1</td>\n",
              "      <td>KureLsKbUXYJ</td>\n",
              "      <td>conf/vldb/RusinkiewiczKTWM95</td>\n",
              "      <td>towaxds a cooperative transaction modelthe cooperative activity model</td>\n",
              "      <td>M Rnsinkiewicz, W Klasâ?¦</td>\n",
              "      <td>Proc. Int. Conf. Very Large Data Bases, Dayal U, Gray P,  &amp;hellip;,</td>\n",
              "      <td>NaN</td>\n",
              "      <td>towards a cooperative transaction model  the cooperative activity model</td>\n",
              "      <td>M Rusinkiewicz, W Klas, T Tesch, J W�sch, P Muth</td>\n",
              "      <td>VLDB</td>\n",
              "      <td>1995</td>\n",
              "    </tr>\n",
              "    <tr>\n",
              "      <th>2</th>\n",
              "      <td>2</td>\n",
              "      <td>T2fm7Wb1ak4J</td>\n",
              "      <td>conf/vldb/RusinkiewiczKTWM95</td>\n",
              "      <td>towards a cooperative transaction modelthe cooperative activity model</td>\n",
              "      <td>M Rusinkiewicz, W Klas, T Tesch, J Waesch, P Muth</td>\n",
              "      <td>PROCEEDINGS OF THE INTERNATIONAL CONFERENCE ON VERY LARGE  &amp;hellip;,</td>\n",
              "      <td>1995.0</td>\n",
              "      <td>towards a cooperative transaction model  the cooperative activity model</td>\n",
              "      <td>M Rusinkiewicz, W Klas, T Tesch, J W�sch, P Muth</td>\n",
              "      <td>VLDB</td>\n",
              "      <td>1995</td>\n",
              "    </tr>\n",
              "    <tr>\n",
              "      <th>3</th>\n",
              "      <td>3</td>\n",
              "      <td>iWNLOYCQX-YJ</td>\n",
              "      <td>conf/vldb/RusinkiewiczKTWM95</td>\n",
              "      <td>w asch j muth p towards a cooperative transaction modelthe cooperative activity model</td>\n",
              "      <td>M Rusinkiewicz, W Klas, T Tesch</td>\n",
              "      <td>Proc. ofthe 21 stInternational Conference on Very Large</td>\n",
              "      <td>NaN</td>\n",
              "      <td>towards a cooperative transaction model  the cooperative activity model</td>\n",
              "      <td>M Rusinkiewicz, W Klas, T Tesch, J W�sch, P Muth</td>\n",
              "      <td>VLDB</td>\n",
              "      <td>1995</td>\n",
              "    </tr>\n",
              "    <tr>\n",
              "      <th>4</th>\n",
              "      <td>4</td>\n",
              "      <td>wgK6p4mDSIMJ</td>\n",
              "      <td>journals/sigmod/EisenbergM02</td>\n",
              "      <td>sqlxml is making good progress</td>\n",
              "      <td>A Eisenberg, J Melton</td>\n",
              "      <td>SIGMOD Record,</td>\n",
              "      <td>2002.0</td>\n",
              "      <td>sqlxml is making good progress</td>\n",
              "      <td>A Eisenberg, J Melton</td>\n",
              "      <td>SIGMOD Record</td>\n",
              "      <td>2002</td>\n",
              "    </tr>\n",
              "  </tbody>\n",
              "</table>\n",
              "</div>"
            ],
            "text/plain": [
              "   _id     ltable_id  ...   rtable_venue rtable_year\n",
              "0    0  019zSr3Lx4EJ  ...           VLDB        1995\n",
              "1    1  KureLsKbUXYJ  ...           VLDB        1995\n",
              "2    2  T2fm7Wb1ak4J  ...           VLDB        1995\n",
              "3    3  iWNLOYCQX-YJ  ...           VLDB        1995\n",
              "4    4  wgK6p4mDSIMJ  ...  SIGMOD Record        2002\n",
              "\n",
              "[5 rows x 11 columns]"
            ]
          },
          "metadata": {
            "tags": []
          },
          "execution_count": 11
        }
      ]
    },
    {
      "cell_type": "code",
      "metadata": {
        "id": "ba93f775-2ed2-47bd-8890-1deca00bd46b"
      },
      "source": [
        "# The path to the labeled data file.\n",
        "path_Match = os.path.join('.', 'Dissertation_Data_2', 'DBLP-Scholar_Perfect_Mapping.csv')"
      ],
      "id": "ba93f775-2ed2-47bd-8890-1deca00bd46b",
      "execution_count": 12,
      "outputs": []
    },
    {
      "cell_type": "code",
      "metadata": {
        "id": "4f449321-075c-4ce3-8a64-316df8c339bd",
        "colab": {
          "base_uri": "https://localhost:8080/"
        },
        "outputId": "a32e7afd-eefb-4c92-95de-56a348eee1f6"
      },
      "source": [
        "# Load the labeled data into a dataframe.\n",
        "M = em.read_csv_metadata(path_Match, \n",
        "                         ltable=Scholar, rtable=DBLP, \n",
        "                         fk_ltable='idScholar', fk_rtable='idDBLP')\n",
        "print('Number of labeled pairs:', len(M))"
      ],
      "id": "4f449321-075c-4ce3-8a64-316df8c339bd",
      "execution_count": 13,
      "outputs": [
        {
          "output_type": "stream",
          "text": [
            "WARNING:py_entitymatching.io.parsers:Metadata file is not present in the given path; proceeding to read the csv file.\n"
          ],
          "name": "stderr"
        },
        {
          "output_type": "stream",
          "text": [
            "Number of labeled pairs: 5347\n"
          ],
          "name": "stdout"
        }
      ]
    },
    {
      "cell_type": "code",
      "metadata": {
        "id": "a5ee211b-4b3b-4a0e-b11d-2f3e8855d8c3",
        "colab": {
          "base_uri": "https://localhost:8080/"
        },
        "outputId": "33e53e06-d274-462b-ca12-bf7e3b395bea"
      },
      "source": [
        "L = em.read_csv_metadata(path_Match)"
      ],
      "id": "a5ee211b-4b3b-4a0e-b11d-2f3e8855d8c3",
      "execution_count": 14,
      "outputs": [
        {
          "output_type": "stream",
          "text": [
            "WARNING:py_entitymatching.io.parsers:Metadata file is not present in the given path; proceeding to read the csv file.\n"
          ],
          "name": "stderr"
        }
      ]
    },
    {
      "cell_type": "code",
      "metadata": {
        "id": "abc7d4ad-5deb-4caa-9a14-f86c89a19eda",
        "colab": {
          "base_uri": "https://localhost:8080/"
        },
        "outputId": "0bec8def-c5c1-425c-da76-e4a184a94b2f"
      },
      "source": [
        "L.shape"
      ],
      "id": "abc7d4ad-5deb-4caa-9a14-f86c89a19eda",
      "execution_count": 15,
      "outputs": [
        {
          "output_type": "execute_result",
          "data": {
            "text/plain": [
              "(5347, 2)"
            ]
          },
          "metadata": {
            "tags": []
          },
          "execution_count": 15
        }
      ]
    },
    {
      "cell_type": "code",
      "metadata": {
        "id": "c13b81c4-ea61-4980-8ebd-e66529b1c6ed",
        "colab": {
          "base_uri": "https://localhost:8080/",
          "height": 206
        },
        "outputId": "29f75e37-6ce8-4ca6-c591-c426efe65468"
      },
      "source": [
        "L.head()"
      ],
      "id": "c13b81c4-ea61-4980-8ebd-e66529b1c6ed",
      "execution_count": 16,
      "outputs": [
        {
          "output_type": "execute_result",
          "data": {
            "text/html": [
              "<div>\n",
              "<style scoped>\n",
              "    .dataframe tbody tr th:only-of-type {\n",
              "        vertical-align: middle;\n",
              "    }\n",
              "\n",
              "    .dataframe tbody tr th {\n",
              "        vertical-align: top;\n",
              "    }\n",
              "\n",
              "    .dataframe thead th {\n",
              "        text-align: right;\n",
              "    }\n",
              "</style>\n",
              "<table border=\"1\" class=\"dataframe\">\n",
              "  <thead>\n",
              "    <tr style=\"text-align: right;\">\n",
              "      <th></th>\n",
              "      <th>idDBLP</th>\n",
              "      <th>idScholar</th>\n",
              "    </tr>\n",
              "  </thead>\n",
              "  <tbody>\n",
              "    <tr>\n",
              "      <th>0</th>\n",
              "      <td>conf/sigmod/AbadiC02</td>\n",
              "      <td>f2Lea-RN8dsJ</td>\n",
              "    </tr>\n",
              "    <tr>\n",
              "      <th>1</th>\n",
              "      <td>conf/sigmod/AbadiCCCCEGHMRSSTXYZ03</td>\n",
              "      <td>eBnT7lhV2LwJ</td>\n",
              "    </tr>\n",
              "    <tr>\n",
              "      <th>2</th>\n",
              "      <td>conf/sigmod/AbadiCCCCEGHMRSSTXYZ03</td>\n",
              "      <td>gBVNSFeS4P8J</td>\n",
              "    </tr>\n",
              "    <tr>\n",
              "      <th>3</th>\n",
              "      <td>conf/sigmod/AbadiCCCCEGHMRSSTXYZ03</td>\n",
              "      <td>VuY9Y49GqXgJ</td>\n",
              "    </tr>\n",
              "    <tr>\n",
              "      <th>4</th>\n",
              "      <td>conf/sigmod/AbiteboulBCMM03</td>\n",
              "      <td>AxpQwgyRyLgJ</td>\n",
              "    </tr>\n",
              "  </tbody>\n",
              "</table>\n",
              "</div>"
            ],
            "text/plain": [
              "                               idDBLP     idScholar\n",
              "0                conf/sigmod/AbadiC02  f2Lea-RN8dsJ\n",
              "1  conf/sigmod/AbadiCCCCEGHMRSSTXYZ03  eBnT7lhV2LwJ\n",
              "2  conf/sigmod/AbadiCCCCEGHMRSSTXYZ03  gBVNSFeS4P8J\n",
              "3  conf/sigmod/AbadiCCCCEGHMRSSTXYZ03  VuY9Y49GqXgJ\n",
              "4         conf/sigmod/AbiteboulBCMM03  AxpQwgyRyLgJ"
            ]
          },
          "metadata": {
            "tags": []
          },
          "execution_count": 16
        }
      ]
    },
    {
      "cell_type": "code",
      "metadata": {
        "id": "97cb8f13-9933-4115-8c20-1610c51d3f64"
      },
      "source": [
        "# create dictionary for checking how many matches are retained and perform labelling\n",
        "mapping = defaultdict(lambda: [])\n",
        "for row in C.iterrows():\n",
        "  mapping[row[1][\"rtable_id\"]].append(row[1][\"ltable_id\"])\n",
        "\n",
        "ct = 0\n",
        "for row in L.iterrows():\n",
        "  id_dbl = row[1][\"idDBLP\"]\n",
        "  id_sch = row[1][\"idScholar\"]\n",
        "  if id_sch in mapping[id_dbl]:\n",
        "    ct += 1\n",
        "    C.loc[(C['rtable_id'] == id_dbl) & (C['ltable_id'] == id_sch), 'label'] = 1  \n",
        "C.loc[(C['label'] != 1), 'label'] = 0"
      ],
      "id": "97cb8f13-9933-4115-8c20-1610c51d3f64",
      "execution_count": 38,
      "outputs": []
    },
    {
      "cell_type": "code",
      "metadata": {
        "colab": {
          "base_uri": "https://localhost:8080/"
        },
        "id": "HNpI3iflgRc-",
        "outputId": "3d55f52c-57ee-4ee5-dca4-2cc2f96437fa"
      },
      "source": [
        "print(\"Proportion of matches retained after blocking:\", round(ct / L.shape[0], 2))"
      ],
      "id": "HNpI3iflgRc-",
      "execution_count": 29,
      "outputs": [
        {
          "output_type": "stream",
          "text": [
            "Proportion of matches retained after blocking: 0.99\n"
          ],
          "name": "stdout"
        }
      ]
    },
    {
      "cell_type": "code",
      "metadata": {
        "id": "H3hDpyxSgSQ-"
      },
      "source": [
        "def grid_search_block(dataL = Scholar, dataR = DBLP, matched = L):\n",
        "  '''\n",
        "  Checking the balance between positive and negative matches and the positive \n",
        "  matches retained by gridsearch.\n",
        "  Input:\n",
        "  - dataL (pandas DataFrame): Data Frame containing the left table\n",
        "  - dataR (pandas DataFrame): Data Frame containing the right table\n",
        "  - L (pandas DataFrame): Data Frame containing the actual matches\n",
        "\n",
        "  Output:\n",
        "  - results (matrix): matrix containing balance and retained matches information\n",
        "  '''\n",
        "  # Get tokenizers and similarity function\n",
        "  block_t = em.get_tokenizers_for_blocking()\n",
        "  block_s = em.get_sim_funs_for_blocking()\n",
        "\n",
        "  # Get attributes\n",
        "  atypes1 = em.get_attr_types(Scholar)\n",
        "  atypes2 = em.get_attr_types(DBLP)\n",
        "\n",
        "  # Get correspondence\n",
        "  block_c = em.get_attr_corres(Scholar, DBLP)\n",
        "\n",
        "  #Get Features\n",
        "  block_f = em.get_features(dataL, dataR, atypes1, atypes2, block_c, block_t, block_s)\n",
        "\n",
        "\n",
        "  # result data frame\n",
        "  results = np.zeros((21, 2))\n",
        "  i = 0\n",
        "  # grid search\n",
        "  for thr in np.linspace(0.5, 0.3, 21):\n",
        "    print(thr)\n",
        "    # Creating a rule based blocker\n",
        "    rb = em.RuleBasedBlocker()\n",
        "    rule = [f'title_title_jac_qgm_3_qgm_3(ltuple, rtuple) < {thr}']\n",
        "    rb.add_rule(rule, feature_table=block_f)\n",
        "    l_attr = list(dataL.columns)\n",
        "    r_attr = list(dataR.columns)\n",
        "    C = rb.block_tables(dataL, dataR,\n",
        "                      l_output_attrs=l_attr, \n",
        "                        r_output_attrs=r_attr, \n",
        "                      n_jobs=1)\n",
        "    \n",
        "    # create dictionary for checking how many matches are retained\n",
        "    mapping = defaultdict(lambda: [])\n",
        "    for row in C.iterrows():\n",
        "      mapping[row[1][\"rtable_id\"]].append(row[1][\"ltable_id\"])\n",
        "\n",
        "    ct = 0\n",
        "    for row in L.iterrows():\n",
        "      id_dbl = row[1][\"idDBLP\"]\n",
        "      id_sch = row[1][\"idScholar\"]\n",
        "      if id_sch in mapping[id_dbl]:\n",
        "        ct += 1\n",
        "\n",
        "    results[i, 0] = round(ct / L.shape[0], 2)\n",
        "    results[i, 1] = round(ct / C.shape[0], 2)\n",
        "    i += 1\n",
        "  # results.columns = [\"PercRet\", \"PosNegRat\"]\n",
        "  \n",
        "  return results\n",
        "    "
      ],
      "id": "H3hDpyxSgSQ-",
      "execution_count": 19,
      "outputs": []
    },
    {
      "cell_type": "code",
      "metadata": {
        "id": "pdEa1KuWtP7d"
      },
      "source": [
        "grid_search_block()"
      ],
      "id": "pdEa1KuWtP7d",
      "execution_count": null,
      "outputs": []
    },
    {
      "cell_type": "code",
      "metadata": {
        "colab": {
          "base_uri": "https://localhost:8080/"
        },
        "id": "qoQg_pbxRK6N",
        "outputId": "5fc562c0-af30-4282-fa0e-5f5b56bbf90f"
      },
      "source": [
        "path_Cand = os.path.join('.', 'Dissertation_Data_2')\n",
        "em.save_table(C, path_Cand)"
      ],
      "id": "qoQg_pbxRK6N",
      "execution_count": 30,
      "outputs": [
        {
          "output_type": "stream",
          "text": [
            "WARNING:py_entitymatching.io.pickles:File already exists at ./Dissertation_Data_2/cand.pkl; Overwriting it\n",
            "WARNING:py_entitymatching.io.pickles:Metadata file already exists at ./Dissertation_Data_2/cand.pklmetadata. Overwriting it\n"
          ],
          "name": "stderr"
        },
        {
          "output_type": "execute_result",
          "data": {
            "text/plain": [
              "True"
            ]
          },
          "metadata": {
            "tags": []
          },
          "execution_count": 30
        }
      ]
    },
    {
      "cell_type": "code",
      "metadata": {
        "colab": {
          "base_uri": "https://localhost:8080/"
        },
        "id": "esOig2lWSBUW",
        "outputId": "e4efcf7c-b70a-4f81-ab75-7bf52c6c7370"
      },
      "source": [
        "cand = em.load_table('./Dissertation_Data_2/cand.pkl', metadata_ext='.pklmeta')"
      ],
      "id": "esOig2lWSBUW",
      "execution_count": 31,
      "outputs": [
        {
          "output_type": "stream",
          "text": [
            "WARNING:py_entitymatching.io.pickles:There is no metadata file\n"
          ],
          "name": "stderr"
        }
      ]
    },
    {
      "cell_type": "code",
      "metadata": {
        "colab": {
          "base_uri": "https://localhost:8080/"
        },
        "id": "sj6hlNFDXP0V",
        "outputId": "08f3b0e0-25c9-46b0-ac36-99c6c50f58bc"
      },
      "source": [
        "sum(C[\"label\"])"
      ],
      "id": "sj6hlNFDXP0V",
      "execution_count": 39,
      "outputs": [
        {
          "output_type": "execute_result",
          "data": {
            "text/plain": [
              "5300"
            ]
          },
          "metadata": {
            "tags": []
          },
          "execution_count": 39
        }
      ]
    },
    {
      "cell_type": "code",
      "metadata": {
        "id": "d_Vfv2Kk3-iE"
      },
      "source": [
        "# The directory where the data splits will be saved.\n",
        "split_path = os.path.join('.', 'Dissertation_Data_2')\n",
        "# Split labeled data into train, valid, and test csv files to disk, with the split ratio of 3:1:1.\n",
        "dm.data.split(C, split_path, 'train.csv', 'valid.csv', 'test.csv',\n",
        "              [3, 1, 1])"
      ],
      "id": "d_Vfv2Kk3-iE",
      "execution_count": 41,
      "outputs": []
    },
    {
      "cell_type": "code",
      "metadata": {
        "colab": {
          "base_uri": "https://localhost:8080/"
        },
        "id": "UW2lMkvm4Qbu",
        "outputId": "a76c0fa2-6594-4cf2-bb1f-65249143b971"
      },
      "source": [
        "# Load the training data files from the disk. Ignore the \"left_id\" and \"right_id\" \n",
        "# columns for data preprocessing.\n",
        "# The 'use_magellan_convention' parameter asks deepmatcher to use Magellan's \n",
        "# naming convention for the left and right table column name prefixes \n",
        "# (\"ltable_\", and \"rtable_\"), and also to consider \"_id\" as the ID column.\n",
        "train, validation, test = dm.data.process(\n",
        "    path=os.path.join('.', 'Dissertation_Data_2'),\n",
        "    cache='train_cache.pth',\n",
        "    train='train.csv',\n",
        "    validation='valid.csv',\n",
        "    test='test.csv',\n",
        "    use_magellan_convention=True,\n",
        "    ignore_columns=('ltable_id', 'rtable_id'))"
      ],
      "id": "UW2lMkvm4Qbu",
      "execution_count": null,
      "outputs": [
        {
          "output_type": "stream",
          "text": [
            "\n",
            "Reading and processing data from \"./Dissertation_Data_2/train.csv\"\n",
            "0% [############################# ] 100% | ETA: 00:00:00\n",
            "Reading and processing data from \"./Dissertation_Data_2/valid.csv\"\n",
            "0% [############################# ] 100% | ETA: 00:00:00\n",
            "Reading and processing data from \"./Dissertation_Data_2/test.csv\"\n",
            "0% [############################# ] 100% | ETA: 00:00:00INFO:deepmatcher.data.field:Downloading vectors from https://drive.google.com/uc?export=download&id=1Vih8gAmgBnuYDxfblbT94P6WjB7s1ZSh to /root/.vector_cache/wiki.en.bin\n",
            "INFO:deepmatcher.data.field:Unable to fetch cached English Word Embeddings from https://drive.google.com/uc?export=download&id=1Vih8gAmgBnuYDxfblbT94P6WjB7s1ZSh\n",
            "Downloading embeddings from https://dl.fbaipublicfiles.com/fasttext/vectors-wiki/wiki.en.zip to /root/.vector_cache/wiki.en.zip\n"
          ],
          "name": "stderr"
        }
      ]
    },
    {
      "cell_type": "code",
      "metadata": {
        "id": "sFrZrmhR4kZ0"
      },
      "source": [
        "# Create a hybrid model.\n",
        "model = dm.MatchingModel(attr_summarizer='sif', attr_comparator='diff')\n",
        "model.initialize(train)  # Explicitly initialize model."
      ],
      "id": "sFrZrmhR4kZ0",
      "execution_count": null,
      "outputs": []
    },
    {
      "cell_type": "code",
      "metadata": {
        "id": "EgwbpBsx4mkJ"
      },
      "source": [
        "# Train the hybrid model with 10 training epochs, batch size of 16, positive-to-negative \n",
        "# ratio to be 3. We save the best model (with the \n",
        "# highest F1 score on the validation set) to 'hybrid_model.pth'.\n",
        "model.run_train(\n",
        "    train,\n",
        "    validation,\n",
        "    epochs=10,\n",
        "    batch_size=16,\n",
        "    best_save_path='hybrid_model.pth',\n",
        "    pos_neg_ratio=3)"
      ],
      "id": "EgwbpBsx4mkJ",
      "execution_count": null,
      "outputs": []
    }
  ]
}